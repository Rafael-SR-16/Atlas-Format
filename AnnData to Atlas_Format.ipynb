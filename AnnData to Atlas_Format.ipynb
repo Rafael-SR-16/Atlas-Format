{
 "cells": [
  {
   "cell_type": "markdown",
   "metadata": {},
   "source": [
    "# AnnData to Atlas-Format\n",
    "\n",
    "Notes: \n",
    "\n",
    "- Do not use logarithm-transformed data.\n",
    "\n",
    "- Use \".\" as decimal separator."
   ]
  },
  {
   "cell_type": "markdown",
   "metadata": {},
   "source": [
    "### Import packages"
   ]
  },
  {
   "cell_type": "code",
   "execution_count": 1,
   "metadata": {},
   "outputs": [],
   "source": [
    "import scanpy as sc\n",
    "import numpy as np\n",
    "import pandas as pd\n",
    "from scipy.sparse import issparse, csr_matrix\n",
    "from anndata import AnnData\n",
    "import anndata as ad\n",
    "import pandas as pd\n",
    "import gc\n",
    "import subprocess\n",
    "import session_info"
   ]
  },
  {
   "cell_type": "code",
   "execution_count": 2,
   "metadata": {},
   "outputs": [
    {
     "data": {
      "text/html": [
       "<details>\n",
       "<summary>Click to view session information</summary>\n",
       "<pre>\n",
       "-----\n",
       "anndata             0.10.9\n",
       "numpy               2.0.2\n",
       "pandas              2.2.3\n",
       "scanpy              1.10.3\n",
       "scipy               1.13.1\n",
       "session_info        1.0.0\n",
       "-----\n",
       "</pre>\n",
       "<details>\n",
       "<summary>Click to view modules imported as dependencies</summary>\n",
       "<pre>\n",
       "PIL                 11.1.0\n",
       "appnope             0.1.4\n",
       "asttokens           NA\n",
       "cloudpickle         3.1.1\n",
       "comm                0.2.2\n",
       "cycler              0.12.1\n",
       "cython_runtime      NA\n",
       "dask                2024.8.0\n",
       "dateutil            2.9.0.post0\n",
       "debugpy             1.8.11\n",
       "decorator           5.1.1\n",
       "exceptiongroup      1.2.2\n",
       "executing           2.1.0\n",
       "h5py                3.12.1\n",
       "igraph              0.11.8\n",
       "importlib_metadata  NA\n",
       "importlib_resources NA\n",
       "ipykernel           6.29.5\n",
       "jedi                0.19.2\n",
       "joblib              1.4.2\n",
       "kiwisolver          1.4.7\n",
       "legacy_api_wrap     NA\n",
       "leidenalg           0.10.2\n",
       "llvmlite            0.43.0\n",
       "matplotlib          3.9.4\n",
       "mpl_toolkits        NA\n",
       "natsort             8.4.0\n",
       "numba               0.60.0\n",
       "packaging           24.2\n",
       "parso               0.8.4\n",
       "pexpect             4.9.0\n",
       "platformdirs        4.3.6\n",
       "prompt_toolkit      3.0.48\n",
       "psutil              6.1.1\n",
       "ptyprocess          0.7.0\n",
       "pure_eval           0.2.3\n",
       "pydev_ipython       NA\n",
       "pydevconsole        NA\n",
       "pydevd              3.2.3\n",
       "pydevd_file_utils   NA\n",
       "pydevd_plugins      NA\n",
       "pydevd_tracing      NA\n",
       "pygments            2.19.1\n",
       "pyparsing           3.2.1\n",
       "pytz                2024.2\n",
       "six                 1.17.0\n",
       "sklearn             1.6.1\n",
       "stack_data          0.6.3\n",
       "texttable           1.7.0\n",
       "threadpoolctl       3.5.0\n",
       "tlz                 1.0.0\n",
       "toolz               1.0.0\n",
       "tornado             6.4.2\n",
       "traitlets           5.14.3\n",
       "typing_extensions   NA\n",
       "vscode              NA\n",
       "wcwidth             0.2.13\n",
       "yaml                6.0.2\n",
       "zipp                NA\n",
       "zmq                 26.2.0\n",
       "zoneinfo            NA\n",
       "</pre>\n",
       "</details> <!-- seems like this ends pre, so might as well be explicit -->\n",
       "<pre>\n",
       "-----\n",
       "IPython             8.18.1\n",
       "jupyter_client      8.6.3\n",
       "jupyter_core        5.7.2\n",
       "-----\n",
       "Python 3.9.13 (v3.9.13:6de2ca5339, May 17 2022, 11:37:23) [Clang 13.0.0 (clang-1300.0.29.30)]\n",
       "macOS-15.5-arm64-arm-64bit\n",
       "-----\n",
       "Session information updated at 2025-08-01 14:13\n",
       "</pre>\n",
       "</details>"
      ],
      "text/plain": [
       "<IPython.core.display.HTML object>"
      ]
     },
     "execution_count": 2,
     "metadata": {},
     "output_type": "execute_result"
    }
   ],
   "source": [
    "# Information of the session.\n",
    "\n",
    "sc.settings.verbosity = 3\n",
    "\n",
    "session_info.show()"
   ]
  },
  {
   "cell_type": "markdown",
   "metadata": {},
   "source": [
    "### Insert AnnData object."
   ]
  },
  {
   "cell_type": "code",
   "execution_count": 3,
   "metadata": {},
   "outputs": [],
   "source": [
    "# Insert the file path.\n",
    "\n",
    "adata_file_input = \"/Users/rafaelsalgueroraigon/Desktop/archivo_anndata_epithelial_destransformado.h5ad\""
   ]
  },
  {
   "cell_type": "code",
   "execution_count": 4,
   "metadata": {},
   "outputs": [],
   "source": [
    "# Import AnnData archive.\n",
    "\n",
    "adata = sc.read_h5ad(adata_file_output)"
   ]
  },
  {
   "cell_type": "code",
   "execution_count": 5,
   "metadata": {},
   "outputs": [
    {
     "data": {
      "text/plain": [
       "AnnData object with n_obs × n_vars = 9691 × 30459\n",
       "    obs: 'run_id', 'batch', 'relative_position', 'bone', 'scrublet_score', 'doublet_bh_pval', 'anatomical_site', 'pcw', 'brc_code', 'n_genes', 'n_genes_by_counts', 'total_counts', 'total_counts_mt', 'pct_counts_mt', 'total_counts_ribo', 'pct_counts_ribo', 'S_score', 'G2M_score', 'phase', 'celltype'\n",
       "    uns: 'anatomical_site_colors', 'pcw_colors'\n",
       "    obsm: 'X_umap'\n",
       "    layers: 'raw_count', 'soupX_corrected'\n",
       "    obsp: 'connectivities', 'distances'"
      ]
     },
     "execution_count": 5,
     "metadata": {},
     "output_type": "execute_result"
    }
   ],
   "source": [
    "# Check adata.\n",
    "adata"
   ]
  },
  {
   "cell_type": "markdown",
   "metadata": {},
   "source": [
    "### Load the function.\n",
    "\n",
    "If the number of replicates is greater than the number of any cell type, it is not averaged."
   ]
  },
  {
   "cell_type": "code",
   "execution_count": 6,
   "metadata": {},
   "outputs": [],
   "source": [
    "\n",
    "def average_replicates(adata, group_key='celltype', n_replicates=5):\n",
    "    averaged_list = []\n",
    "    for group_value in adata.obs[group_key].unique():\n",
    "        mask = adata.obs[group_key] == group_value\n",
    "        sub_data = adata[mask, :].copy()\n",
    "\n",
    "        if issparse(sub_data.X):\n",
    "            sub_data.X = sub_data.X.toarray()\n",
    "\n",
    "        n_cells = sub_data.shape[0]\n",
    "        if n_cells < n_replicates:\n",
    "            averaged_list.append(sub_data)\n",
    "            continue\n",
    "\n",
    "        group_size = n_cells // n_replicates\n",
    "        remainder = n_cells % n_replicates\n",
    "        group_indices = []\n",
    "        for i in range(n_replicates):\n",
    "            size = group_size + 1 if i < remainder else group_size\n",
    "            group_indices.extend([i] * size)\n",
    "        group_indices = np.array(group_indices)\n",
    "\n",
    "        averaged_data = []\n",
    "        for group_id in range(n_replicates):\n",
    "            group_mask = group_indices == group_id\n",
    "            group_mean = np.mean(sub_data.X[group_mask, :], axis=0)\n",
    "            averaged_data.append(group_mean)\n",
    "\n",
    "        X = np.round(np.vstack(averaged_data), 2)\n",
    "        X_sparse = csr_matrix(X)\n",
    "\n",
    "        averaged_adata = AnnData(\n",
    "            X=X_sparse,\n",
    "            var=sub_data.var.copy(),\n",
    "            obs = pd.DataFrame(index=[f\"{group_value}\"] * n_replicates)\n",
    "        )\n",
    "        averaged_adata.obs[group_key] = group_value\n",
    "        averaged_list.append(averaged_adata)\n",
    "\n",
    "    return ad.concat(averaged_list)"
   ]
  },
  {
   "cell_type": "markdown",
   "metadata": {},
   "source": [
    "1. If the function values are not changed, the default values will be used, with 5 replicates. The optimal number of replicates is between 3 and 10.\n",
    "\n",
    "2. Group_key indicates the name by which the cell types are identified in the AnnData object.\n",
    "\n",
    "3. The names of the same types of cell phones must be similar, which is why the warnings appear (they are not important)."
   ]
  },
  {
   "cell_type": "code",
   "execution_count": 7,
   "metadata": {},
   "outputs": [
    {
     "name": "stderr",
     "output_type": "stream",
     "text": [
      "/Library/Frameworks/Python.framework/Versions/3.9/lib/python3.9/site-packages/anndata/_core/anndata.py:1754: UserWarning: Observation names are not unique. To make them unique, call `.obs_names_make_unique`.\n",
      "  utils.warn_names_duplicates(\"obs\")\n",
      "/Library/Frameworks/Python.framework/Versions/3.9/lib/python3.9/site-packages/anndata/_core/anndata.py:1754: UserWarning: Observation names are not unique. To make them unique, call `.obs_names_make_unique`.\n",
      "  utils.warn_names_duplicates(\"obs\")\n",
      "/Library/Frameworks/Python.framework/Versions/3.9/lib/python3.9/site-packages/anndata/_core/anndata.py:1754: UserWarning: Observation names are not unique. To make them unique, call `.obs_names_make_unique`.\n",
      "  utils.warn_names_duplicates(\"obs\")\n",
      "/Library/Frameworks/Python.framework/Versions/3.9/lib/python3.9/site-packages/anndata/_core/anndata.py:1754: UserWarning: Observation names are not unique. To make them unique, call `.obs_names_make_unique`.\n",
      "  utils.warn_names_duplicates(\"obs\")\n",
      "/Library/Frameworks/Python.framework/Versions/3.9/lib/python3.9/site-packages/anndata/_core/anndata.py:1754: UserWarning: Observation names are not unique. To make them unique, call `.obs_names_make_unique`.\n",
      "  utils.warn_names_duplicates(\"obs\")\n",
      "/Library/Frameworks/Python.framework/Versions/3.9/lib/python3.9/site-packages/anndata/_core/anndata.py:1754: UserWarning: Observation names are not unique. To make them unique, call `.obs_names_make_unique`.\n",
      "  utils.warn_names_duplicates(\"obs\")\n",
      "/Library/Frameworks/Python.framework/Versions/3.9/lib/python3.9/site-packages/anndata/_core/anndata.py:1754: UserWarning: Observation names are not unique. To make them unique, call `.obs_names_make_unique`.\n",
      "  utils.warn_names_duplicates(\"obs\")\n",
      "/Library/Frameworks/Python.framework/Versions/3.9/lib/python3.9/site-packages/anndata/_core/anndata.py:1754: UserWarning: Observation names are not unique. To make them unique, call `.obs_names_make_unique`.\n",
      "  utils.warn_names_duplicates(\"obs\")\n",
      "/Library/Frameworks/Python.framework/Versions/3.9/lib/python3.9/site-packages/anndata/_core/anndata.py:1754: UserWarning: Observation names are not unique. To make them unique, call `.obs_names_make_unique`.\n",
      "  utils.warn_names_duplicates(\"obs\")\n"
     ]
    }
   ],
   "source": [
    "average_adata = average_replicates(adata, group_key='celltype', n_replicates=5)"
   ]
  },
  {
   "cell_type": "code",
   "execution_count": 8,
   "metadata": {},
   "outputs": [
    {
     "data": {
      "text/plain": [
       "AnnData object with n_obs × n_vars = 40 × 30459\n",
       "    obs: 'celltype'"
      ]
     },
     "execution_count": 8,
     "metadata": {},
     "output_type": "execute_result"
    }
   ],
   "source": [
    "# Check new adata with averages expression.\n",
    "average_adata"
   ]
  },
  {
   "cell_type": "markdown",
   "metadata": {},
   "source": [
    "### Get txt archive.\n",
    "\n",
    "If you don't have enough memory in your computer, use Read_for_chunks = TRUE to read in blocks and convert the contents of the AnnData file to a data frame. Choose chunks size if you use this option."
   ]
  },
  {
   "cell_type": "code",
   "execution_count": 9,
   "metadata": {},
   "outputs": [],
   "source": [
    "Read_for_chunks = False\n",
    "chunk_size = 1000 "
   ]
  },
  {
   "cell_type": "code",
   "execution_count": 10,
   "metadata": {},
   "outputs": [],
   "source": [
    "if Read_for_chunks:\n",
    "\n",
    "    chunk_size\n",
    "\n",
    "    df_list = []\n",
    "\n",
    "    for start in range(0, average_adata.n_obs, chunk_size):\n",
    "        end = min(start + chunk_size, average_adata.n_obs)\n",
    "        block = average_adata.X[start:end]\n",
    "        block_dense = block.toarray()\n",
    "        block_df = pd.DataFrame(block_dense, index=average_adata.obs_names[start:end], columns=average_adata.var_names)\n",
    "        df_list.append(block_df)\n",
    "\n",
    "    df = pd.concat(df_list)\n",
    "else:\n",
    "    \n",
    "    X = average_adata.X.toarray()\n",
    "    df = pd.DataFrame(X, index=average_adata.obs_names, columns=average_adata.var_names)"
   ]
  },
  {
   "cell_type": "markdown",
   "metadata": {},
   "source": [
    "#### Free memory."
   ]
  },
  {
   "cell_type": "code",
   "execution_count": 11,
   "metadata": {},
   "outputs": [
    {
     "data": {
      "text/plain": [
       "867"
      ]
     },
     "execution_count": 11,
     "metadata": {},
     "output_type": "execute_result"
    }
   ],
   "source": [
    "del adata\n",
    "gc.collect()  "
   ]
  },
  {
   "cell_type": "markdown",
   "metadata": {},
   "source": [
    "### Transposition.\n",
    "\n",
    "(Cells in columns and genes in rows)"
   ]
  },
  {
   "cell_type": "markdown",
   "metadata": {},
   "source": [
    "##### Define:\n",
    "\n",
    "- File path\n",
    "\n",
    "- Block_size.\n",
    "\n",
    "- By Chunks = True means transposition by chunks. If your computer has enough RAM, By_Chunks = False is recommended."
   ]
  },
  {
   "cell_type": "code",
   "execution_count": 16,
   "metadata": {},
   "outputs": [],
   "source": [
    "output_path = \"/Users/rafaelsalgueroraigon/Desktop/gene_expresion_transposition.txt\"\n",
    "\n",
    "block_size_transponse = 1000\n",
    "\n",
    "by_chunks = True  "
   ]
  },
  {
   "cell_type": "code",
   "execution_count": 17,
   "metadata": {},
   "outputs": [],
   "source": [
    "import pandas as pd\n",
    "\n",
    "if by_chunks:\n",
    "\n",
    "    block_size_transponse  \n",
    "    blocks = []\n",
    "\n",
    "    for i in range(0, df.shape[0], block_size_transponse):\n",
    "        block = df.iloc[i:i+block_size_transponse, :]\n",
    "        blocks.append(block.T) \n",
    "\n",
    "    df_T = pd.concat(blocks, axis=1) \n",
    "\n",
    "else:\n",
    "    df_T = df.T  \n",
    "    \n",
    "# Save archive in Atlas-Format\n",
    "df_T.to_csv(output_path, sep='\\t', float_format='%.2f')"
   ]
  },
  {
   "cell_type": "code",
   "execution_count": 18,
   "metadata": {},
   "outputs": [
    {
     "name": "stdout",
     "output_type": "stream",
     "text": [
      "           Unknown  Unknown  Unknown  Unknown  Unknown  Periderm  Periderm  \\\n",
      "DAO           0.00     0.00     0.00     0.00     0.00      0.00      0.00   \n",
      "INTS6-AS1     0.18     0.23     0.16     0.07     0.17      0.05      0.13   \n",
      "MED11         0.08     0.07     0.10     0.11     0.09      0.10      0.09   \n",
      "YES1          0.95     0.87     0.88     0.86     0.94      0.58      0.49   \n",
      "PLEKHG6       0.07     0.05     0.06     0.10     0.04      0.20      0.16   \n",
      "SLC38A5       0.07     0.06     0.05     0.10     0.07      0.04      0.04   \n",
      "IQCN          0.03     0.07     0.11     0.14     0.09      0.25      0.14   \n",
      "CLTRN         0.00     0.01     0.01     0.01     0.00      0.02      0.00   \n",
      "GUCY1B1       0.28     0.17     0.28     0.17     0.22      0.41      0.33   \n",
      "ZNF254        1.44     1.12     1.19     1.36     1.38      1.37      1.59   \n",
      "\n",
      "           Periderm  Periderm  Periderm  \n",
      "DAO            0.02      0.00      0.00  \n",
      "INTS6-AS1      0.20      0.09      0.08  \n",
      "MED11          0.05      0.18      0.04  \n",
      "YES1           0.66      0.78      0.83  \n",
      "PLEKHG6        0.16      0.25      0.12  \n",
      "SLC38A5        0.06      0.02      0.01  \n",
      "IQCN           0.13      0.08      0.17  \n",
      "CLTRN          0.00      0.00      0.01  \n",
      "GUCY1B1        0.35      0.56      0.30  \n",
      "ZNF254         2.36      1.88      1.93  \n"
     ]
    }
   ],
   "source": [
    "# Check expression table.\n",
    "\n",
    "print(df_T.iloc[:10, :10])"
   ]
  },
  {
   "cell_type": "markdown",
   "metadata": {},
   "source": [
    "### 0 values must have no decimals\n",
    "\n",
    "Change input_file and output_file path."
   ]
  },
  {
   "cell_type": "code",
   "execution_count": null,
   "metadata": {
    "vscode": {
     "languageId": "r"
    }
   },
   "outputs": [],
   "source": [
    "input_file = \"/Users/rafaelsalgueroraigon/Desktop/gene_expresion_transposition.txt\"\n",
    "output_file = \"/Users/rafaelsalgueroraigon/Desktop/Atlas_Format_Table.txt\""
   ]
  },
  {
   "cell_type": "code",
   "execution_count": 19,
   "metadata": {},
   "outputs": [
    {
     "data": {
      "text/plain": [
       "CompletedProcess(args='awk \\'BEGIN{FS=OFS=\"\\\\t\"} {for(i=1;i<=NF;i++) if($i==\"0.00\") $i=\"0\"; print}\\' \"/Users/rafaelsalgueroraigon/Desktop/gene_expresion_transposition.txt\" > \"/Users/rafaelsalgueroraigon/Desktop/Atlas_Format_Table.txt\" ', returncode=0)"
      ]
     },
     "execution_count": 19,
     "metadata": {},
     "output_type": "execute_result"
    }
   ],
   "source": [
    "cmd = f\"\"\"awk 'BEGIN{{FS=OFS=\"\\\\t\"}} {{for(i=1;i<=NF;i++) if($i==\"0.00\") $i=\"0\"; print}}' \\\n",
    "\"{input_file}\" > \"{output_file}\" \"\"\"\n",
    "\n",
    "subprocess.run(cmd, shell=True)"
   ]
  },
  {
   "cell_type": "markdown",
   "metadata": {},
   "source": [
    "# Reference example data: \n",
    "\n",
    "To, K., Fei, L., Pett, J.P. et al. A multi-omic atlas of human embryonic skeletal development. Nature 635, 657–667 (2024). https://doi.org/10.1038/s41586-024-08189-z"
   ]
  },
  {
   "cell_type": "markdown",
   "metadata": {},
   "source": [
    "# Original autors:\n",
    "\n",
    "Rafael Salguero Raigón\n",
    "\n",
    "Iván Delgado Sánchez\n",
    "\n",
    "Javier Santos del Río"
   ]
  }
 ],
 "metadata": {
  "kernelspec": {
   "display_name": "Python 3",
   "language": "python",
   "name": "python3"
  },
  "language_info": {
   "codemirror_mode": {
    "name": "ipython",
    "version": 3
   },
   "file_extension": ".py",
   "mimetype": "text/x-python",
   "name": "python",
   "nbconvert_exporter": "python",
   "pygments_lexer": "ipython3",
   "version": "3.9.13"
  }
 },
 "nbformat": 4,
 "nbformat_minor": 2
}
