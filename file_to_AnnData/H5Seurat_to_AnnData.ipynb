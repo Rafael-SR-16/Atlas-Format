{
 "cells": [
  {
   "cell_type": "code",
   "execution_count": null,
   "id": "4f8f4c3e-8158-4bc2-80da-737a68dc1818",
   "metadata": {
    "kernel": "Python 3 (ipykernel)"
   },
   "outputs": [],
   "source": [
    "#Install Python packages\n",
    "import scanpy as sc\n",
    "import session_info\n",
    "\n",
    "import scanpy as sc\n",
    "import pandas as pd\n",
    "import numpy as np\n",
    "from scipy.sparse import csr_matrix\n",
    "import anndata"
   ]
  },
  {
   "cell_type": "code",
   "execution_count": null,
   "id": "e70385f4-d182-454e-bbce-268dbe3699e9",
   "metadata": {
    "kernel": "R"
   },
   "outputs": [],
   "source": [
    "#Install R packages\n",
    "install.packages('Seurat')\n",
    "\n",
    "install.packages(\"remotes\")\n",
    "remotes::install_github(\"mojaveazure/seurat-disk\")"
   ]
  },
  {
   "cell_type": "code",
   "execution_count": null,
   "id": "f943ec81-7bca-43a4-94c2-af323ddba734",
   "metadata": {
    "kernel": "Python 3 (ipykernel)"
   },
   "outputs": [],
   "source": [
    "# Information of the session\n",
    "\n",
    "sc.settings.verbosity = 3\n",
    "\n",
    "session_info.show()"
   ]
  },
  {
   "cell_type": "code",
   "execution_count": null,
   "id": "4f03925b-eb91-484c-9e01-a785c2de7d22",
   "metadata": {
    "kernel": "R"
   },
   "outputs": [],
   "source": [
    "R:"
   ]
  },
  {
   "cell_type": "code",
   "execution_count": null,
   "id": "c2f0bde6-0803-48b2-a129-9deaaeee6570",
   "metadata": {
    "kernel": "R"
   },
   "outputs": [],
   "source": [
    "library(Seurat)\n",
    "library(SeuratDisk)"
   ]
  },
  {
   "cell_type": "code",
   "execution_count": 1,
   "id": "435ae365-1f71-4236-bc2a-65d75a088496",
   "metadata": {
    "kernel": "R"
   },
   "outputs": [
    {
     "ename": "ERROR",
     "evalue": "Error in parse(text = x, srcfile = src): <text>:2:33: unexpected input\n1: #If you do not have a h5seurat object yet, use:\n2: SaveH5Seurat(matriz, filename = “\n                                   ^\n",
     "output_type": "error",
     "traceback": [
      "Error in parse(text = x, srcfile = src): <text>:2:33: unexpected input\n1: #If you do not have a h5seurat object yet, use:\n2: SaveH5Seurat(matriz, filename = “\n                                   ^\nTraceback:\n"
     ]
    }
   ],
   "source": [
    "#If you do not have a h5seurat object yet, use this command first:\n",
    "matrix <- LoadH5Seurat(\"matriz.h5seurat\")\n",
    "SaveH5Seurat(matrix, filename = “matrix.h5seurat”)\n",
    "\n",
    "#If you have a h5seurat file, only use this command:\n",
    "Convert(“matrix.h5seurat”, dest = “h5ad”)"
   ]
  },
  {
   "cell_type": "code",
   "execution_count": null,
   "id": "6b5b1308-40ae-4e62-8493-3796d7e7d742",
   "metadata": {
    "kernel": "R"
   },
   "outputs": [],
   "source": [
    "Python:"
   ]
  },
  {
   "cell_type": "code",
   "execution_count": null,
   "id": "cf65072f-6371-4077-9020-ef90a7a1ac51",
   "metadata": {
    "kernel": "Python 3 (ipykernel)"
   },
   "outputs": [],
   "source": [
    "#Read the h5ad in Python\n",
    "adata = sc.read_h5ad(\"matrix.h5ad\")"
   ]
  },
  {
   "cell_type": "code",
   "execution_count": null,
   "id": "18fb47d6-4fe4-402b-ae6e-eab96193f75d",
   "metadata": {
    "kernel": "Python 3 (ipykernel)"
   },
   "outputs": [],
   "source": [
    "# === 1. Cargar archivo .h5ad original ===\n",
    "input_path = \"matriz_original.h5ad\"\n",
    "adata = sc.read_h5ad(input_path)\n",
    "print(\"✅ Archivo AnnData cargado\")\n",
    "\n",
    "# === 2. Asegurar formato CSR (requerido para .data, .indices, .indptr) ===\n",
    "X = adata.X.tocsr()\n",
    "shape = X.shape\n",
    "\n",
    "# === 3. Extraer nombres de celdas y genes ===\n",
    "cell_names = adata.obs_names.tolist()\n",
    "gene_names = adata.var_names.tolist()\n",
    "\n",
    "# === OPCIONAL: Transponer si los genes están en columnas y las células en filas ===\n",
    "# ⚠️ DESCOMENTA este bloque si necesitas transponer la matriz:\n",
    "# ------------------------------------------------------------\n",
    "# print(\"📌 Transponiendo matriz (genes como columnas, células como filas)\")\n",
    "# X = X.transpose().tocsr()\n",
    "# shape = X.shape\n",
    "# cell_names, gene_names = gene_names, cell_names\n",
    "# ------------------------------------------------------------\n",
    "\n",
    "# === 4. Extraer componentes de la matriz dispersa ===\n",
    "data = X.data\n",
    "indices = X.indices\n",
    "indptr = X.indptr\n",
    "\n",
    "print(\"📐 Matriz dispersa descompuesta\")\n",
    "print(f\" - shape: {shape}\")\n",
    "print(f\" - non-zero values: {len(data)}\")\n",
    "\n",
    "# === 5. Reconstruir matriz dispersa ===\n",
    "X_new = csr_matrix((data, indices, indptr), shape=shape)\n",
    "\n",
    "# === 6. Crear nuevo objeto AnnData ===\n",
    "obs = pd.DataFrame(index=cell_names)\n",
    "var = pd.DataFrame(index=gene_names)\n",
    "\n",
    "adata_new = anndata.AnnData(X=X_new, obs=obs, var=var)\n",
    "print(\"🧬 Nuevo AnnData creado\")\n",
    "\n",
    "# === 7. Guardar nuevo archivo ===\n",
    "output_path = \"matriz_reconstruida.h5ad\"\n",
    "adata_new.write(output_path)\n",
    "print(f\"💾 Guardado en: {output_path}\")"
   ]
  },
  {
   "cell_type": "code",
   "execution_count": null,
   "id": "ccd05520-f3a0-4c8e-9766-7c9df70ded55",
   "metadata": {
    "kernel": "Python 3 (ipykernel)"
   },
   "outputs": [],
   "source": [
    "Reference data:\n",
    "https://www.ncbi.nlm.nih.gov/geo/query/acc.cgi?acc=GSE261872"
   ]
  }
 ],
 "metadata": {
  "kernelspec": {
   "display_name": "SoS",
   "language": "sos",
   "name": "sos"
  },
  "language_info": {
   "codemirror_mode": "sos",
   "file_extension": ".sos",
   "mimetype": "text/x-sos",
   "name": "sos",
   "nbconvert_exporter": "sos_notebook.converter.SoS_Exporter",
   "pygments_lexer": "sos"
  },
  "sos": {
   "kernels": [
    [
     "Python 3 (ipykernel)",
     "python3",
     "python3",
     "",
     ""
    ],
    [
     "R",
     "ir",
     "R",
     "#DCDCDA",
     ""
    ]
   ],
   "version": ""
  }
 },
 "nbformat": 4,
 "nbformat_minor": 5
}
