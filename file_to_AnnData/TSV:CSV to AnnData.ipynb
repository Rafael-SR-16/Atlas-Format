{
 "cells": [
  {
   "cell_type": "markdown",
   "metadata": {},
   "source": [
    "# TSV/CSV to AnnData"
   ]
  },
  {
   "cell_type": "markdown",
   "metadata": {},
   "source": [
    "Note 1: The data must be normalized.\n",
    "\n",
    "Note 2: You must know if the cells are rows or columns."
   ]
  },
  {
   "cell_type": "code",
   "execution_count": 2,
   "metadata": {},
   "outputs": [],
   "source": [
    "# Import modules.\n",
    "\n",
    "import session_info\n",
    "import scanpy as sc\n",
    "import pandas as pd\n",
    "from scipy.sparse import csr_matrix, vstack\n",
    "import anndata as ad"
   ]
  },
  {
   "cell_type": "code",
   "execution_count": 3,
   "metadata": {},
   "outputs": [
    {
     "data": {
      "text/html": [
       "<details>\n",
       "<summary>Click to view session information</summary>\n",
       "<pre>\n",
       "-----\n",
       "anndata             0.10.9\n",
       "pandas              2.2.3\n",
       "scanpy              1.10.3\n",
       "scipy               1.13.1\n",
       "session_info        1.0.0\n",
       "-----\n",
       "</pre>\n",
       "<details>\n",
       "<summary>Click to view modules imported as dependencies</summary>\n",
       "<pre>\n",
       "PIL                 11.1.0\n",
       "appnope             0.1.4\n",
       "asttokens           NA\n",
       "cloudpickle         3.1.1\n",
       "comm                0.2.2\n",
       "cycler              0.12.1\n",
       "cython_runtime      NA\n",
       "dask                2024.8.0\n",
       "dateutil            2.9.0.post0\n",
       "debugpy             1.8.11\n",
       "decorator           5.1.1\n",
       "exceptiongroup      1.2.2\n",
       "executing           2.1.0\n",
       "h5py                3.12.1\n",
       "igraph              0.11.8\n",
       "importlib_metadata  NA\n",
       "importlib_resources NA\n",
       "ipykernel           6.29.5\n",
       "jedi                0.19.2\n",
       "joblib              1.4.2\n",
       "kiwisolver          1.4.7\n",
       "legacy_api_wrap     NA\n",
       "leidenalg           0.10.2\n",
       "llvmlite            0.43.0\n",
       "matplotlib          3.9.4\n",
       "mpl_toolkits        NA\n",
       "natsort             8.4.0\n",
       "numba               0.60.0\n",
       "numpy               2.0.2\n",
       "packaging           24.2\n",
       "parso               0.8.4\n",
       "pexpect             4.9.0\n",
       "platformdirs        4.3.6\n",
       "prompt_toolkit      3.0.48\n",
       "psutil              6.1.1\n",
       "ptyprocess          0.7.0\n",
       "pure_eval           0.2.3\n",
       "pydev_ipython       NA\n",
       "pydevconsole        NA\n",
       "pydevd              3.2.3\n",
       "pydevd_file_utils   NA\n",
       "pydevd_plugins      NA\n",
       "pydevd_tracing      NA\n",
       "pygments            2.19.1\n",
       "pyparsing           3.2.1\n",
       "pytz                2024.2\n",
       "six                 1.17.0\n",
       "sklearn             1.6.1\n",
       "stack_data          0.6.3\n",
       "texttable           1.7.0\n",
       "threadpoolctl       3.5.0\n",
       "tlz                 1.0.0\n",
       "toolz               1.0.0\n",
       "tornado             6.4.2\n",
       "traitlets           5.14.3\n",
       "typing_extensions   NA\n",
       "vscode              NA\n",
       "wcwidth             0.2.13\n",
       "yaml                6.0.2\n",
       "zipp                NA\n",
       "zmq                 26.2.0\n",
       "zoneinfo            NA\n",
       "</pre>\n",
       "</details> <!-- seems like this ends pre, so might as well be explicit -->\n",
       "<pre>\n",
       "-----\n",
       "IPython             8.18.1\n",
       "jupyter_client      8.6.3\n",
       "jupyter_core        5.7.2\n",
       "-----\n",
       "Python 3.9.13 (v3.9.13:6de2ca5339, May 17 2022, 11:37:23) [Clang 13.0.0 (clang-1300.0.29.30)]\n",
       "macOS-15.5-arm64-arm-64bit\n",
       "-----\n",
       "Session information updated at 2025-07-07 17:20\n",
       "</pre>\n",
       "</details>"
      ],
      "text/plain": [
       "<IPython.core.display.HTML object>"
      ]
     },
     "execution_count": 3,
     "metadata": {},
     "output_type": "execute_result"
    }
   ],
   "source": [
    "# Information of the session.\n",
    "\n",
    "sc.settings.verbosity = 3\n",
    "\n",
    "session_info.show()"
   ]
  },
  {
   "cell_type": "markdown",
   "metadata": {},
   "source": [
    "1. Adjust the group size. Each block is processed independently, focusing on data quality.\n",
    "\n",
    "2. If the data has cells in columns and genes in rows, transpose it before converting to AnnData.\n"
   ]
  },
  {
   "cell_type": "code",
   "execution_count": 4,
   "metadata": {},
   "outputs": [],
   "source": [
    "# Load count matrix in chunks\n",
    "file_path = \"/Users/Desktop/File.tsv\"\n",
    "\n",
    "chunksize = 1000 # Choose chunk size.\n",
    "chunks = pd.read_csv(file_path, sep=\"\\t\", index_col=0, chunksize=chunksize) # Use sep=\"\\t\" for .tsv or sep=\",\" for .csv\n",
    "\n",
    "transpose_chunks = False  # Set to True if data is genes x cells.\n",
    "\n",
    "sparse_chunks = []\n",
    "all_chunks = []\n",
    "\n",
    "# Read and (optionally) transpose chunks\n",
    "for chunk in chunks:\n",
    "    if transpose_chunks:\n",
    "        chunk = chunk.T\n",
    "    all_chunks.append(chunk)\n",
    "    sparse_chunks.append(csr_matrix(chunk.values, dtype=\"float32\"))\n",
    "\n",
    "# Combine chunks and extract names\n",
    "X = pd.concat(all_chunks)\n",
    "cell_names = X.index.astype(str)\n",
    "gene_names = X.columns.astype(str)\n",
    "\n",
    "# Stack all sparse chunks\n",
    "X = vstack(sparse_chunks, format=\"csr\")\n",
    "\n"
   ]
  },
  {
   "cell_type": "code",
   "execution_count": 6,
   "metadata": {},
   "outputs": [
    {
     "name": "stderr",
     "output_type": "stream",
     "text": [
      "/Library/Frameworks/Python.framework/Versions/3.9/lib/python3.9/site-packages/anndata/_core/anndata.py:1754: UserWarning: Observation names are not unique. To make them unique, call `.obs_names_make_unique`.\n",
      "  utils.warn_names_duplicates(\"obs\")\n"
     ]
    }
   ],
   "source": [
    "# Create the AnnData object with cells as rows and genes as columns\n",
    "adata = sc.AnnData(\n",
    "    X=X,  \n",
    "    obs=pd.DataFrame(index=cell_names),\n",
    "    var=pd.DataFrame(index=gene_names)\n",
    ")\n",
    "\n",
    "# Save anndata\n",
    "adata.write (\"/Users/Desktop/new_adata.h5ad\") #compression = \"gzip\" (optional) "
   ]
  },
  {
   "cell_type": "code",
   "execution_count": 7,
   "metadata": {},
   "outputs": [
    {
     "name": "stderr",
     "output_type": "stream",
     "text": [
      "/Library/Frameworks/Python.framework/Versions/3.9/lib/python3.9/site-packages/anndata/_core/anndata.py:1754: UserWarning: Observation names are not unique. To make them unique, call `.obs_names_make_unique`.\n",
      "  utils.warn_names_duplicates(\"obs\")\n"
     ]
    },
    {
     "data": {
      "text/plain": [
       "AnnData object with n_obs × n_vars = 538 × 23802 backed at '/Users/rafaelsalgueroraigon/Desktop/new_adata.h5ad'"
      ]
     },
     "execution_count": 7,
     "metadata": {},
     "output_type": "execute_result"
    }
   ],
   "source": [
    "# Check adata\n",
    "adata = sc.read_h5ad(\"/Users/Desktop/new_adata.h5ad\", backed= \"r\") \n",
    "adata"
   ]
  },
  {
   "cell_type": "markdown",
   "metadata": {},
   "source": [
    "#### Reference example data:\n",
    "\n",
    "To, K., Fei, L., Pett, J.P. et al. A multi-omic atlas of human embryonic skeletal development. Nature 635, 657–667 (2024). https://doi.org/10.1038/s41586-024-08189-z\n",
    "\n"
   ]
  }
 ],
 "metadata": {
  "kernelspec": {
   "display_name": "Python 3",
   "language": "python",
   "name": "python3"
  },
  "language_info": {
   "codemirror_mode": {
    "name": "ipython",
    "version": 3
   },
   "file_extension": ".py",
   "mimetype": "text/x-python",
   "name": "python",
   "nbconvert_exporter": "python",
   "pygments_lexer": "ipython3",
   "version": "3.9.13"
  }
 },
 "nbformat": 4,
 "nbformat_minor": 2
}
