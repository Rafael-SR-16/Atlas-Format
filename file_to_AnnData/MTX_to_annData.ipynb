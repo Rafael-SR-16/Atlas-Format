{
 "cells": [
  {
   "cell_type": "code",
   "execution_count": 62,
   "id": "442f3c54-7083-47f0-9b03-7989d055aa13",
   "metadata": {
    "kernel": "Python 3 (ipykernel)"
   },
   "outputs": [],
   "source": [
    "#Install packages\n",
    "import os\n",
    "import scanpy as sc\n",
    "import pandas as pd\n",
    "import anndata as ad"
   ]
  },
  {
   "cell_type": "markdown",
   "id": "aa3964e0",
   "metadata": {},
   "source": [
    "If you have 10x Genomics data, there is a specific function to read your data all at once. Else, set the 10x variable to False."
   ]
  },
  {
   "cell_type": "code",
   "execution_count": 63,
   "id": "e6adad99",
   "metadata": {},
   "outputs": [],
   "source": [
    "format_10x = False"
   ]
  },
  {
   "cell_type": "code",
   "execution_count": 72,
   "id": "eda11213",
   "metadata": {},
   "outputs": [
    {
     "name": "stdout",
     "output_type": "stream",
     "text": [
      "This data is in 10x Genomics format\n",
      "/home/javi/rafa-tfm/Atlas-Format/file_to_AnnData\n",
      "Series([], dtype: float64)\n"
     ]
    }
   ],
   "source": [
    "if format_10x:\n",
    "    print(\"This data is in 10x Genomics format\")\n",
    "    dir = os.getcwd() # This is my current directory. Feel free to change to the directory where your data is. Remember the quotes\n",
    "    print(dir)\n",
    "    adata = sc.read_10x_mtx(\n",
    "        dir,\n",
    "        var_names=\"gene_symbols\",\n",
    "        cache=True,\n",
    "        gex_only=False\n",
    ")\n",
    "else:\n",
    "    print(\"This data is not in 10x Genomics format\")\n",
    "    # MTX file format has its information separated in different files, so we need to do some manual operations\n",
    "    adata = ad.io.read_mtx(\"matrix.mtx\").T\n",
    "    # Extract cells and genes names\n",
    "    barcodes = pd.read_csv(\"barcodes.tsv\", header=None, sep=\"\\t\")[0].values\n",
    "    adata.obs_names = barcodes\n",
    "    genes = pd.read_csv(\"genes.tsv\", header=None, sep=\"\\t\")[1].values\n",
    "    adata.var_names = genes\n",
    "    # Now we can add the metadata (tSNE and celltypes)\n",
    "    metadata = pd.read_csv(\"metadata.tsv\", sep=\"\\t\", index_col=0)\n",
    "    #print(metadata.describe(include=\"object\"))\n",
    "    adata.obs = adata.obs.join(metadata)"
   ]
  },
  {
   "cell_type": "code",
   "execution_count": 54,
   "id": "f1292b15",
   "metadata": {
    "kernel": "Python 3 (ipykernel)"
   },
   "outputs": [],
   "source": [
    "#Save as h5ad file\n",
    "adata.write(\"GSE96583.h5ad\")"
   ]
  },
  {
   "cell_type": "markdown",
   "id": "eee2741d",
   "metadata": {
    "kernel": "SoS"
   },
   "source": [
    "Reference data:\n",
    "\n",
    "This github:\n",
    "https://github.com/hyunminkang/biostat607-example-data/tree/master/GSE96583\n",
    "\n",
    "This GEO accession\n",
    "https://www.ncbi.nlm.nih.gov/geo/query/acc.cgi?acc=GSE96583"
   ]
  }
 ],
 "metadata": {
  "kernelspec": {
   "display_name": "python3.12",
   "language": "python",
   "name": "venv3.12"
  },
  "language_info": {
   "codemirror_mode": {
    "name": "ipython",
    "version": 3
   },
   "file_extension": ".py",
   "mimetype": "text/x-python",
   "name": "python",
   "nbconvert_exporter": "python",
   "pygments_lexer": "ipython3",
   "version": "3.12.3"
  },
  "sos": {
   "kernels": [
    [
     "Python 3 (ipykernel)",
     "python3",
     "python3",
     "",
     ""
    ],
    [
     "SoS",
     "sos",
     "",
     "",
     "sos"
    ]
   ],
   "version": ""
  }
 },
 "nbformat": 4,
 "nbformat_minor": 5
}
