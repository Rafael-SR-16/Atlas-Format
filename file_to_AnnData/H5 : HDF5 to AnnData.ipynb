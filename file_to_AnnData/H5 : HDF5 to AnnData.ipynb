{
 "cells": [
  {
   "cell_type": "markdown",
   "metadata": {},
   "source": [
    "# h5/hdf5 to AnnData"
   ]
  },
  {
   "cell_type": "code",
   "execution_count": 2,
   "metadata": {},
   "outputs": [],
   "source": [
    "# Import modules\n",
    "import numpy as np\n",
    "import scanpy as sc\n",
    "import pandas as pd\n",
    "import anndata as ad\n",
    "import session_info\n",
    "from scipy.sparse import csr_matrix\n",
    "import dask.array as da\n",
    "import h5py"
   ]
  },
  {
   "cell_type": "code",
   "execution_count": 3,
   "metadata": {},
   "outputs": [
    {
     "name": "stderr",
     "output_type": "stream",
     "text": [
      "/home/javi/.venv3.12/lib/python3.12/site-packages/session_info/main.py:213: UserWarning: The '__version__' attribute is deprecated and will be removed in MarkupSafe 3.1. Use feature detection, or `importlib.metadata.version(\"markupsafe\")`, instead.\n",
      "  mod_version = _find_version(mod.__version__)\n"
     ]
    },
    {
     "data": {
      "text/html": [
       "<details>\n",
       "<summary>Click to view session information</summary>\n",
       "<pre>\n",
       "-----\n",
       "anndata             0.11.3\n",
       "dask                2025.7.0\n",
       "h5py                3.12.1\n",
       "numpy               2.1.3\n",
       "pandas              2.2.3\n",
       "scanpy              1.10.4\n",
       "scipy               1.15.1\n",
       "session_info        1.0.0\n",
       "-----\n",
       "</pre>\n",
       "<details>\n",
       "<summary>Click to view modules imported as dependencies</summary>\n",
       "<pre>\n",
       "Cython              0.29.37\n",
       "PIL                 11.1.0\n",
       "asttokens           NA\n",
       "charset_normalizer  3.4.2\n",
       "cloudpickle         3.1.1\n",
       "comm                0.2.2\n",
       "cycler              0.12.1\n",
       "cython              0.29.37\n",
       "cython_runtime      NA\n",
       "dateutil            2.9.0.post0\n",
       "debugpy             1.8.15\n",
       "decorator           5.2.1\n",
       "executing           2.2.0\n",
       "ipykernel           6.30.0\n",
       "jedi                0.19.2\n",
       "jinja2              3.1.6\n",
       "joblib              1.4.2\n",
       "kiwisolver          1.4.8\n",
       "legacy_api_wrap     NA\n",
       "llvmlite            0.44.0\n",
       "markupsafe          3.0.2\n",
       "matplotlib          3.10.0\n",
       "mpl_toolkits        NA\n",
       "natsort             8.4.0\n",
       "numba               0.61.0\n",
       "packaging           24.2\n",
       "parso               0.8.4\n",
       "platformdirs        4.3.8\n",
       "prompt_toolkit      3.0.51\n",
       "psutil              7.0.0\n",
       "pure_eval           0.2.3\n",
       "pydev_ipython       NA\n",
       "pydevconsole        NA\n",
       "pydevd              3.2.3\n",
       "pydevd_file_utils   NA\n",
       "pydevd_plugins      NA\n",
       "pydevd_tracing      NA\n",
       "pygments            2.19.1\n",
       "pyparsing           3.2.1\n",
       "pytz                2024.2\n",
       "sitecustomize       NA\n",
       "six                 1.17.0\n",
       "sklearn             1.6.1\n",
       "stack_data          0.6.3\n",
       "threadpoolctl       3.5.0\n",
       "tlz                 1.0.0\n",
       "toolz               1.0.0\n",
       "torch               2.7.0+cu126\n",
       "torchgen            NA\n",
       "tornado             6.5.1\n",
       "tqdm                4.67.1\n",
       "traitlets           5.14.3\n",
       "typing_extensions   NA\n",
       "wcwidth             0.2.13\n",
       "yaml                6.0.2\n",
       "zmq                 27.0.0\n",
       "</pre>\n",
       "</details> <!-- seems like this ends pre, so might as well be explicit -->\n",
       "<pre>\n",
       "-----\n",
       "IPython             9.3.0\n",
       "jupyter_client      8.6.3\n",
       "jupyter_core        5.8.1\n",
       "-----\n",
       "Python 3.12.3 (main, Jun 18 2025, 17:59:45) [GCC 13.3.0]\n",
       "Linux-6.11.0-29-generic-x86_64-with-glibc2.39\n",
       "-----\n",
       "Session information updated at 2025-07-23 11:46\n",
       "</pre>\n",
       "</details>"
      ],
      "text/plain": [
       "<IPython.core.display.HTML object>"
      ]
     },
     "execution_count": 3,
     "metadata": {},
     "output_type": "execute_result"
    }
   ],
   "source": [
    "# Information of the session\n",
    "\n",
    "sc.settings.verbosity = 3\n",
    "\n",
    "session_info.show()"
   ]
  },
  {
   "cell_type": "markdown",
   "metadata": {},
   "source": [
    "### Use only if your data comes from 10x genomics"
   ]
  },
  {
   "cell_type": "code",
   "execution_count": 3,
   "metadata": {},
   "outputs": [
    {
     "name": "stdout",
     "output_type": "stream",
     "text": [
      "reading /Users/rafaelsalgueroraigon/Downloads/GSM3489183_IPF_01_filtered_gene_bc_matrices_h5.h5\n",
      " (0:00:00)\n",
      "AnnData object with n_obs × n_vars = 2253 × 33694\n",
      "    var: 'gene_ids'\n"
     ]
    },
    {
     "name": "stderr",
     "output_type": "stream",
     "text": [
      "/Library/Frameworks/Python.framework/Versions/3.9/lib/python3.9/site-packages/anndata/_core/anndata.py:1756: UserWarning: Variable names are not unique. To make them unique, call `.var_names_make_unique`.\n",
      "  utils.warn_names_duplicates(\"var\")\n"
     ]
    }
   ],
   "source": [
    "#10x genomics\n",
    "\n",
    "adata = sc.read_10x_h5('/Users/Downloads/GSM3489183_IPF_01_filtered_gene_bc_matrices_h5.h5')\n",
    "\n",
    "print(adata)"
   ]
  },
  {
   "cell_type": "markdown",
   "metadata": {},
   "source": [
    "### Other method for data.h5"
   ]
  },
  {
   "cell_type": "code",
   "execution_count": 5,
   "metadata": {},
   "outputs": [
    {
     "name": "stdout",
     "output_type": "stream",
     "text": [
      "GRCh38\n",
      "GRCh38/barcodes\n",
      "GRCh38/data\n",
      "GRCh38/gene_names\n",
      "GRCh38/genes\n",
      "GRCh38/indices\n",
      "GRCh38/indptr\n",
      "GRCh38/shape\n"
     ]
    }
   ],
   "source": [
    "# Identify files\n",
    "import h5py\n",
    "\n",
    "with h5py.File('GSM3489183_IPF_01_filtered_gene_bc_matrices_h5.h5', 'r') as archivo:\n",
    "    def listar_objetos(name, obj):\n",
    "        print(name)\n",
    "\n",
    "    archivo.visititems(listar_objetos)"
   ]
  },
  {
   "cell_type": "code",
   "execution_count": 6,
   "metadata": {},
   "outputs": [],
   "source": [
    "# Path to your HDF5 file\n",
    "\n",
    "file_path = \"GSM3489183_IPF_01_filtered_gene_bc_matrices_h5.h5\""
   ]
  },
  {
   "cell_type": "markdown",
   "metadata": {},
   "source": [
    "In the next step, you need to specify paths to the data (values ​​other than 0), column indexes (position values), indptr (start and end of row), and shape (shape of the matrix). \n",
    "\n",
    "You also need to specify paths to the barcodes or cell_names, and the genes."
   ]
  },
  {
   "cell_type": "code",
   "execution_count": 8,
   "metadata": {},
   "outputs": [
    {
     "name": "stdout",
     "output_type": "stream",
     "text": [
      "Empty DataFrame\n",
      "Columns: []\n",
      "Index: [AAACCTGAGCACCGCT-1, AAACCTGCACAGATTC-1, AAACCTGGTAAGGGCT-1, AAACCTGGTCAAACTC-1, AAACCTGGTGCAACGA-1, AAACCTGGTTGTGGCC-1, AAACCTGTCAATCTCT-1, AAACGGGAGAAGAAGC-1, AAACGGGAGCACGCCT-1, AAACGGGCAACAACCT-1, AAACGGGGTATGAAAC-1, AAAGATGAGGCTCAGA-1, AAAGATGTCATGCAAC-1, AAAGATGTCCAAAGTC-1, AAAGCAACACTATCTT-1, AAAGCAATCTAAGCCA-1, AAAGTAGAGGACACCA-1, AAAGTAGCAAGTACCT-1, AAAGTAGTCACAAACC-1, AAAGTAGTCACCACCT-1, AAAGTAGTCAGAGACG-1, AAAGTAGTCGAACGGA-1, AAAGTAGTCTCTGAGA-1, AAATGCCAGCGTGAGT-1, AAATGCCAGTGAACGC-1, AAATGCCCACGGTAGA-1, AAATGCCGTATTCTCT-1, AAATGCCGTGTCCTCT-1, AAATGCCTCACGGTTA-1, AAATGCCTCAGTTGAC-1, AAATGCCTCTATCGCC-1, AACACGTAGCAAATCA-1, AACACGTCATCACGTA-1, AACACGTTCACTGGGC-1, AACACGTTCCACTCCA-1, AACCATGAGTGGACGT-1, AACCATGGTACACCGC-1, AACCGCGCATCACCCT-1, AACCGCGGTCAATGTC-1, AACCGCGTCTTCTGGC-1, AACGTTGGTTTCCACC-1, AACGTTGTCACCAGGC-1, AACGTTGTCGCGCCAA-1, AACTCAGCACTTAAGC-1, AACTCAGGTCAACATC-1, AACTCAGGTGAAGGCT-1, AACTCAGTCGTTTATC-1, AACTCAGTCTATCGCC-1, AACTCCCCAATGTTGC-1, AACTCCCCACGGATAG-1, AACTCCCCAGTGGGAT-1, AACTCTTAGACGCACA-1, AACTCTTAGGAATCGC-1, AACTCTTCAAACCTAC-1, AACTCTTCACACATGT-1, AACTCTTCATGTCCTC-1, AACTCTTTCGTGGGAA-1, AACTCTTTCGTTTAGG-1, AACTCTTTCTATCCCG-1, AACTGGTCACATTCGA-1, AACTGGTCATGTCTCC-1, AACTGGTGTCTTCTCG-1, AACTGGTGTTCCAACA-1, AACTGGTTCCTTTCGG-1, AACTTTCAGTGCAAGC-1, AACTTTCCAAGTCATC-1, AACTTTCGTCCAACTA-1, AACTTTCTCATTTGGG-1, AACTTTCTCCTACAGA-1, AAGACCTAGCCAGAAC-1, AAGACCTCACAAGACG-1, AAGACCTCACTAGTAC-1, AAGACCTGTTGTCGCG-1, AAGACCTTCCGGGTGT-1, AAGACCTTCGCCAAAT-1, AAGCCGCAGGTTCCTA-1, AAGCCGCAGTGAAGAG-1, AAGCCGCCAAGGGTCA-1, AAGCCGCCAGCTGCTG-1, AAGCCGCGTACTCAAC-1, AAGCCGCGTGTTCTTT-1, AAGCCGCTCAAACGGG-1, AAGCCGCTCTCCTATA-1, AAGGAGCAGAAACGCC-1, AAGGAGCAGATGCCAG-1, AAGGAGCCACACTGCG-1, AAGGAGCCAGGAATGC-1, AAGGAGCCATATGCTG-1, AAGGAGCCATGCAATC-1, AAGGAGCGTTAAAGTG-1, AAGGAGCGTTCTGGTA-1, AAGGAGCTCACTATTC-1, AAGGAGCTCTACTCAT-1, AAGGCAGGTAGCGATG-1, AAGGCAGGTTCCACTC-1, AAGGTTCGTAATAGCA-1, AAGGTTCGTTACCGAT-1, AAGGTTCTCTCAAGTG-1, AAGTCTGCAAGTCATC-1, AAGTCTGCACTTAAGC-1, ...]\n",
      "\n",
      "[2253 rows x 0 columns]\n",
      "\n",
      "\n",
      "\n",
      "Empty DataFrame\n",
      "Columns: []\n",
      "Index: [RP11-34P13.3, FAM138A, OR4F5, RP11-34P13.7, RP11-34P13.8, RP11-34P13.14, RP11-34P13.9, FO538757.3, FO538757.2, AP006222.2, RP5-857K21.15, RP4-669L17.2, RP4-669L17.10, OR4F29, RP5-857K21.4, RP5-857K21.2, OR4F16, RP11-206L10.4, RP11-206L10.9, FAM87B, LINC00115, FAM41C, RP11-54O7.16, RP11-54O7.1, RP11-54O7.2, RP11-54O7.3, SAMD11, NOC2L, KLHL17, PLEKHN1, PERM1, RP11-54O7.17, HES4, ISG15, RP11-54O7.11, AGRN, RP11-54O7.18, RNF223, C1orf159, LINC01342, RP11-465B22.8, TTLL10-AS1, TTLL10, TNFRSF18, TNFRSF4, SDF4, B3GALT6, FAM132A, RP5-902P8.12, UBE2J2, RP5-902P8.10, SCNN1D, ACAP3, PUSL1, CPSF3L, CPTP, TAS1R3, DVL1, MXRA8, AURKAIP1, CCNL2, MRPL20, RP4-758J18.13, ANKRD65, RP4-758J18.7, TMEM88B, RP4-758J18.10, VWA1, ATAD3C, ATAD3B, ATAD3A, TMEM240, SSU72, RP5-832C2.5, AL645728.1, C1orf233, RP11-345P4.9, MIB2, MMP23B, CDK11B, RP11-345P4.10, SLC35E2B, RP11-345P4.7, CDK11A, SLC35E2, NADK, GNB1, RP1-140A9.1, CALML6, TMEM52, CFAP74, RP11-547D24.1, GABRD, RP11-547D24.3, PRKCZ, RP5-892K4.1, RP11-181G12.2, FAAP20, RP11-181G12.4, SKI, ...]\n",
      "\n",
      "[33694 rows x 0 columns]\n"
     ]
    }
   ],
   "source": [
    "# Open and read the HDF5 file\n",
    "with h5py.File(file_path, \"r\") as f:\n",
    "    # Directly access the datasets inside the 'GRCh38' group\n",
    "    data = f[\"GRCh38/data\"][:] \n",
    "    indices = f[\"GRCh38/indices\"][:]\n",
    "    indptr = f[\"GRCh38/indptr\"][:]\n",
    "    shape = tuple(f[\"GRCh38/shape\"][:])[::-1]  \n",
    "\n",
    "    # Reconstruct the sparse matrix (cells x genes)\n",
    "    X = csr_matrix((data, indices, indptr), shape=shape)\n",
    "\n",
    "    # Load barcodes and gene names (decode bytes to strings)\n",
    "    cell_names = [b.decode(\"utf-8\") for b in f[\"GRCh38/barcodes\"][:]]\n",
    "    gene_names = [g.decode(\"utf-8\") for g in f[\"GRCh38/gene_names\"][:]]\n",
    "\n",
    "    # Create metadata DataFrames\n",
    "    obs = pd.DataFrame(index=cell_names)\n",
    "    print(obs)\n",
    "    print(\"\\n\\n\")\n",
    "    var = pd.DataFrame(index=gene_names)\n",
    "    print(var)"
   ]
  },
  {
   "cell_type": "code",
   "execution_count": 7,
   "metadata": {},
   "outputs": [
    {
     "name": "stderr",
     "output_type": "stream",
     "text": [
      "/Library/Frameworks/Python.framework/Versions/3.9/lib/python3.9/site-packages/anndata/_core/anndata.py:1756: UserWarning: Variable names are not unique. To make them unique, call `.var_names_make_unique`.\n",
      "  utils.warn_names_duplicates(\"var\")\n"
     ]
    }
   ],
   "source": [
    "# Create AnnData\n",
    "\n",
    "adata = sc.AnnData(\n",
    "    X=X,  \n",
    "    obs=pd.DataFrame(index=cell_names),\n",
    "    var=pd.DataFrame(index=gene_names)\n",
    ")"
   ]
  },
  {
   "cell_type": "code",
   "execution_count": 8,
   "metadata": {},
   "outputs": [],
   "source": [
    "# Save anndata\n",
    "\n",
    "adata.write (\"/Users/Desktop/New atlas format/adata.h5ad\") # compression=\"gzip\" (optional) "
   ]
  },
  {
   "cell_type": "code",
   "execution_count": 9,
   "metadata": {},
   "outputs": [
    {
     "data": {
      "text/plain": [
       "AnnData object with n_obs × n_vars = 2253 × 33694"
      ]
     },
     "execution_count": 9,
     "metadata": {},
     "output_type": "execute_result"
    }
   ],
   "source": [
    "# Check adata\n",
    "\n",
    "adata"
   ]
  },
  {
   "cell_type": "markdown",
   "metadata": {},
   "source": [
    "## Reference data:\n",
    "\n",
    "https://www.ncbi.nlm.nih.gov/geo/query/acc.cgi \n",
    "\n",
    "Sample: GSM3489183\n",
    "\n"
   ]
  }
 ],
 "metadata": {
  "kernelspec": {
   "display_name": "python3.12",
   "language": "python",
   "name": "venv3.12"
  },
  "language_info": {
   "codemirror_mode": {
    "name": "ipython",
    "version": 3
   },
   "file_extension": ".py",
   "mimetype": "text/x-python",
   "name": "python",
   "nbconvert_exporter": "python",
   "pygments_lexer": "ipython3",
   "version": "3.12.3"
  }
 },
 "nbformat": 4,
 "nbformat_minor": 2
}
