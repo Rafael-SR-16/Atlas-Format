{
 "cells": [
  {
   "cell_type": "markdown",
   "metadata": {},
   "source": [
    "# h5/hdf5 to AnnData"
   ]
  },
  {
   "cell_type": "code",
   "execution_count": 1,
   "metadata": {},
   "outputs": [],
   "source": [
    "# Import modules\n",
    "import numpy as np\n",
    "import scanpy as sc\n",
    "import pandas as pd\n",
    "import anndata as ad\n",
    "import session_info\n",
    "from scipy.sparse import csr_matrix\n",
    "import dask.array as da\n",
    "import h5py"
   ]
  },
  {
   "cell_type": "code",
   "execution_count": 2,
   "metadata": {},
   "outputs": [
    {
     "data": {
      "text/html": [
       "<details>\n",
       "<summary>Click to view session information</summary>\n",
       "<pre>\n",
       "-----\n",
       "anndata             0.10.9\n",
       "dask                2024.8.0\n",
       "h5py                3.12.1\n",
       "numpy               2.0.2\n",
       "pandas              2.2.3\n",
       "scanpy              1.10.3\n",
       "scipy               1.13.1\n",
       "session_info        1.0.0\n",
       "-----\n",
       "</pre>\n",
       "<details>\n",
       "<summary>Click to view modules imported as dependencies</summary>\n",
       "<pre>\n",
       "PIL                 11.1.0\n",
       "appnope             0.1.4\n",
       "asttokens           NA\n",
       "cloudpickle         3.1.1\n",
       "comm                0.2.2\n",
       "cycler              0.12.1\n",
       "cython_runtime      NA\n",
       "dateutil            2.9.0.post0\n",
       "debugpy             1.8.11\n",
       "decorator           5.1.1\n",
       "exceptiongroup      1.2.2\n",
       "executing           2.1.0\n",
       "igraph              0.11.8\n",
       "importlib_metadata  NA\n",
       "importlib_resources NA\n",
       "ipykernel           6.29.5\n",
       "jedi                0.19.2\n",
       "joblib              1.4.2\n",
       "kiwisolver          1.4.7\n",
       "legacy_api_wrap     NA\n",
       "leidenalg           0.10.2\n",
       "llvmlite            0.43.0\n",
       "matplotlib          3.9.4\n",
       "mpl_toolkits        NA\n",
       "natsort             8.4.0\n",
       "numba               0.60.0\n",
       "packaging           24.2\n",
       "parso               0.8.4\n",
       "pexpect             4.9.0\n",
       "platformdirs        4.3.6\n",
       "prompt_toolkit      3.0.48\n",
       "psutil              6.1.1\n",
       "ptyprocess          0.7.0\n",
       "pure_eval           0.2.3\n",
       "pydev_ipython       NA\n",
       "pydevconsole        NA\n",
       "pydevd              3.2.3\n",
       "pydevd_file_utils   NA\n",
       "pydevd_plugins      NA\n",
       "pydevd_tracing      NA\n",
       "pygments            2.19.1\n",
       "pyparsing           3.2.1\n",
       "pytz                2024.2\n",
       "six                 1.17.0\n",
       "sklearn             1.6.1\n",
       "stack_data          0.6.3\n",
       "texttable           1.7.0\n",
       "threadpoolctl       3.5.0\n",
       "tlz                 1.0.0\n",
       "toolz               1.0.0\n",
       "tornado             6.4.2\n",
       "traitlets           5.14.3\n",
       "typing_extensions   NA\n",
       "vscode              NA\n",
       "wcwidth             0.2.13\n",
       "yaml                6.0.2\n",
       "zipp                NA\n",
       "zmq                 26.2.0\n",
       "zoneinfo            NA\n",
       "</pre>\n",
       "</details> <!-- seems like this ends pre, so might as well be explicit -->\n",
       "<pre>\n",
       "-----\n",
       "IPython             8.18.1\n",
       "jupyter_client      8.6.3\n",
       "jupyter_core        5.7.2\n",
       "-----\n",
       "Python 3.9.13 (v3.9.13:6de2ca5339, May 17 2022, 11:37:23) [Clang 13.0.0 (clang-1300.0.29.30)]\n",
       "macOS-15.5-arm64-arm-64bit\n",
       "-----\n",
       "Session information updated at 2025-07-09 16:26\n",
       "</pre>\n",
       "</details>"
      ],
      "text/plain": [
       "<IPython.core.display.HTML object>"
      ]
     },
     "execution_count": 2,
     "metadata": {},
     "output_type": "execute_result"
    }
   ],
   "source": [
    "# Information of the session\n",
    "\n",
    "sc.settings.verbosity = 3\n",
    "\n",
    "session_info.show()"
   ]
  },
  {
   "cell_type": "markdown",
   "metadata": {},
   "source": [
    "### Use only if your data comes from 10x genomics"
   ]
  },
  {
   "cell_type": "code",
   "execution_count": 3,
   "metadata": {},
   "outputs": [
    {
     "name": "stdout",
     "output_type": "stream",
     "text": [
      "reading /Users/rafaelsalgueroraigon/Downloads/GSM3489183_IPF_01_filtered_gene_bc_matrices_h5.h5\n",
      " (0:00:00)\n",
      "AnnData object with n_obs × n_vars = 2253 × 33694\n",
      "    var: 'gene_ids'\n"
     ]
    },
    {
     "name": "stderr",
     "output_type": "stream",
     "text": [
      "/Library/Frameworks/Python.framework/Versions/3.9/lib/python3.9/site-packages/anndata/_core/anndata.py:1756: UserWarning: Variable names are not unique. To make them unique, call `.var_names_make_unique`.\n",
      "  utils.warn_names_duplicates(\"var\")\n"
     ]
    }
   ],
   "source": [
    "#10x genomics\n",
    "\n",
    "adata = sc.read_10x_h5('/Users/Downloads/GSM3489183_IPF_01_filtered_gene_bc_matrices_h5.h5')\n",
    "\n",
    "print(adata)"
   ]
  },
  {
   "cell_type": "markdown",
   "metadata": {},
   "source": [
    "### Other method for data.h5"
   ]
  },
  {
   "cell_type": "code",
   "execution_count": 4,
   "metadata": {},
   "outputs": [
    {
     "name": "stdout",
     "output_type": "stream",
     "text": [
      "GRCh38\n",
      "GRCh38/barcodes\n",
      "GRCh38/data\n",
      "GRCh38/gene_names\n",
      "GRCh38/genes\n",
      "GRCh38/indices\n",
      "GRCh38/indptr\n",
      "GRCh38/shape\n"
     ]
    }
   ],
   "source": [
    "# Identify files\n",
    "import h5py\n",
    "\n",
    "with h5py.File('/Users/Downloads/GSM3489183_IPF_01_filtered_gene_bc_matrices_h5.h5', 'r') as archivo:\n",
    "    def listar_objetos(name, obj):\n",
    "        print(name)\n",
    "\n",
    "    archivo.visititems(listar_objetos)"
   ]
  },
  {
   "cell_type": "code",
   "execution_count": 5,
   "metadata": {},
   "outputs": [],
   "source": [
    "# Path to your HDF5 file\n",
    "\n",
    "file_path = \"/Users/Downloads/GSM3489183_IPF_01_filtered_gene_bc_matrices_h5.h5\""
   ]
  },
  {
   "cell_type": "markdown",
   "metadata": {},
   "source": [
    "In the next step, you need to specify paths to the data (values ​​other than 0), column indexes (position values), indptr (start and end of row), and shape (shape of the matrix). \n",
    "\n",
    "You also need to specify paths to the barcodes or cell_names, and the genes."
   ]
  },
  {
   "cell_type": "code",
   "execution_count": 6,
   "metadata": {},
   "outputs": [],
   "source": [
    "# Open and read the HDF5 file\n",
    "with h5py.File(file_path, \"r\") as f:\n",
    "    # Directly access the datasets inside the 'GRCh38' group\n",
    "    data = f[\"GRCh38/data\"][:] \n",
    "    indices = f[\"GRCh38/indices\"][:]\n",
    "    indptr = f[\"GRCh38/indptr\"][:]\n",
    "    shape = tuple(f[\"GRCh38/shape\"][:])[::-1]  \n",
    "\n",
    "    # Reconstruct the sparse matrix (cells x genes)\n",
    "    X = csr_matrix((data, indices, indptr), shape=shape)\n",
    "\n",
    "    # Load barcodes and gene names (decode bytes to strings)\n",
    "    cell_names = [b.decode(\"utf-8\") for b in f[\"GRCh38/barcodes\"][:]]\n",
    "    gene_names = [g.decode(\"utf-8\") for g in f[\"GRCh38/gene_names\"][:]]\n",
    "\n",
    "    # Create metadata DataFrames\n",
    "    obs = pd.DataFrame(index=cell_names)\n",
    "    var = pd.DataFrame(index=gene_names)"
   ]
  },
  {
   "cell_type": "code",
   "execution_count": 7,
   "metadata": {},
   "outputs": [
    {
     "name": "stderr",
     "output_type": "stream",
     "text": [
      "/Library/Frameworks/Python.framework/Versions/3.9/lib/python3.9/site-packages/anndata/_core/anndata.py:1756: UserWarning: Variable names are not unique. To make them unique, call `.var_names_make_unique`.\n",
      "  utils.warn_names_duplicates(\"var\")\n"
     ]
    }
   ],
   "source": [
    "# Create AnnData\n",
    "\n",
    "adata = sc.AnnData(\n",
    "    X=X,  \n",
    "    obs=pd.DataFrame(index=cell_names),\n",
    "    var=pd.DataFrame(index=gene_names)\n",
    ")"
   ]
  },
  {
   "cell_type": "code",
   "execution_count": 8,
   "metadata": {},
   "outputs": [],
   "source": [
    "# Save anndata\n",
    "\n",
    "adata.write (\"/Users/Desktop/New atlas format/adata.h5ad\") # compression=\"gzip\" (optional) "
   ]
  },
  {
   "cell_type": "code",
   "execution_count": 9,
   "metadata": {},
   "outputs": [
    {
     "data": {
      "text/plain": [
       "AnnData object with n_obs × n_vars = 2253 × 33694"
      ]
     },
     "execution_count": 9,
     "metadata": {},
     "output_type": "execute_result"
    }
   ],
   "source": [
    "# Check adata\n",
    "\n",
    "adata"
   ]
  },
  {
   "cell_type": "markdown",
   "metadata": {},
   "source": [
    "## Reference data:\n",
    "\n",
    "https://www.ncbi.nlm.nih.gov/geo/query/acc.cgi \n",
    "\n",
    "Sample: GSM3489183\n",
    "\n"
   ]
  }
 ],
 "metadata": {
  "kernelspec": {
   "display_name": "Python 3",
   "language": "python",
   "name": "python3"
  },
  "language_info": {
   "codemirror_mode": {
    "name": "ipython",
    "version": 3
   },
   "file_extension": ".py",
   "mimetype": "text/x-python",
   "name": "python",
   "nbconvert_exporter": "python",
   "pygments_lexer": "ipython3",
   "version": "3.9.13"
  }
 },
 "nbformat": 4,
 "nbformat_minor": 2
}
