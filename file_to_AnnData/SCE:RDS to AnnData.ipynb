{
 "cells": [
  {
   "cell_type": "markdown",
   "metadata": {},
   "source": [
    "# SCE to AnnData\n",
    "\n",
    "SCE -> Single Cell Experiment"
   ]
  },
  {
   "cell_type": "markdown",
   "metadata": {},
   "source": [
    "### En R"
   ]
  },
  {
   "cell_type": "code",
   "execution_count": 1,
   "metadata": {
    "vscode": {
     "languageId": "r"
    }
   },
   "outputs": [
    {
     "name": "stderr",
     "output_type": "stream",
     "text": [
      "Loading required namespace: BiocManager\n",
      "\n",
      "'getOption(\"repos\")' replaces Bioconductor standard repositories, see\n",
      "'help(\"repositories\", package = \"BiocManager\")' for details.\n",
      "Replacement repositories:\n",
      "    CRAN: https://cran.r-project.org\n",
      "\n",
      "Bioconductor version 3.20 (BiocManager 1.30.25), R 4.4.2 (2024-10-31)\n",
      "\n",
      "Installing package(s) 'SingleCellExperiment', 'zellkonverter'\n",
      "\n",
      "also installing the dependencies 'filelock', 'rprojroot', 'MatrixGenerics', 'S4Arrays', 'SparseArray', 'dir.expiry', 'basilisk.utils', 'RcppTOML', 'here', 'SummarizedExperiment', 'GenomicRanges', 'DelayedArray', 'basilisk', 'reticulate'\n",
      "\n",
      "\n"
     ]
    },
    {
     "name": "stdout",
     "output_type": "stream",
     "text": [
      "\n",
      "The downloaded binary packages are in\n",
      "\t/var/folders/8f/7_qhk5z129j440r9hvhr0cb40000gn/T//RtmpW3i8ia/downloaded_packages\n"
     ]
    },
    {
     "name": "stderr",
     "output_type": "stream",
     "text": [
      "Old packages: 'BiocManager', 'Biostrings', 'Deriv', 'GenomeInfoDb', 'Hmisc',\n",
      "  'IRanges', 'KernSmooth', 'MASS', 'Matrix', 'R6', 'RSQLite', 'Rcpp',\n",
      "  'bayestestR', 'bit', 'bit64', 'broom', 'bslib', 'class', 'cli', 'cluster',\n",
      "  'commonmark', 'cowplot', 'cpp11', 'curl', 'data.table', 'datawizard', 'doBy',\n",
      "  'edgeR', 'effectsize', 'evaluate', 'fastcluster', 'foreign', 'fs',\n",
      "  'generics', 'ggplot2', 'haven', 'httpuv', 'insight', 'jsonlite', 'knitr',\n",
      "  'later', 'lattice', 'limma', 'locfit', 'lubridate', 'matrixStats', 'mgcv',\n",
      "  'mime', 'nlme', 'nnet', 'openssl', 'parameters', 'performance', 'pillar',\n",
      "  'processx', 'promises', 'ps', 'purrr', 'ragg', 'readxl', 'reformulas',\n",
      "  'rlang', 'rpart', 'sass', 'scales', 'shiny', 'spatial', 'stringi',\n",
      "  'survival', 'systemfonts', 'textshaping', 'tibble', 'tinytex', 'tzdb',\n",
      "  'utf8', 'xfun', 'xml2'\n",
      "\n"
     ]
    }
   ],
   "source": [
    "# Install packages if necessary\n",
    "\n",
    "if (!requireNamespace(\"BiocManager\"))\n",
    "    install.packages(\"BiocManager\")\n",
    "\n",
    "BiocManager::install(c(\"SingleCellExperiment\", \"zellkonverter\"))"
   ]
  },
  {
   "cell_type": "code",
   "execution_count": 2,
   "metadata": {
    "vscode": {
     "languageId": "r"
    }
   },
   "outputs": [
    {
     "name": "stderr",
     "output_type": "stream",
     "text": [
      "Cargando paquete requerido: SummarizedExperiment\n",
      "\n",
      "Cargando paquete requerido: MatrixGenerics\n",
      "\n",
      "Cargando paquete requerido: matrixStats\n",
      "\n",
      "\n",
      "Adjuntando el paquete: 'MatrixGenerics'\n",
      "\n",
      "\n",
      "The following objects are masked from 'package:matrixStats':\n",
      "\n",
      "    colAlls, colAnyNAs, colAnys, colAvgsPerRowSet, colCollapse,\n",
      "    colCounts, colCummaxs, colCummins, colCumprods, colCumsums,\n",
      "    colDiffs, colIQRDiffs, colIQRs, colLogSumExps, colMadDiffs,\n",
      "    colMads, colMaxs, colMeans2, colMedians, colMins, colOrderStats,\n",
      "    colProds, colQuantiles, colRanges, colRanks, colSdDiffs, colSds,\n",
      "    colSums2, colTabulates, colVarDiffs, colVars, colWeightedMads,\n",
      "    colWeightedMeans, colWeightedMedians, colWeightedSds,\n",
      "    colWeightedVars, rowAlls, rowAnyNAs, rowAnys, rowAvgsPerColSet,\n",
      "    rowCollapse, rowCounts, rowCummaxs, rowCummins, rowCumprods,\n",
      "    rowCumsums, rowDiffs, rowIQRDiffs, rowIQRs, rowLogSumExps,\n",
      "    rowMadDiffs, rowMads, rowMaxs, rowMeans2, rowMedians, rowMins,\n",
      "    rowOrderStats, rowProds, rowQuantiles, rowRanges, rowRanks,\n",
      "    rowSdDiffs, rowSds, rowSums2, rowTabulates, rowVarDiffs, rowVars,\n",
      "    rowWeightedMads, rowWeightedMeans, rowWeightedMedians,\n",
      "    rowWeightedSds, rowWeightedVars\n",
      "\n",
      "\n",
      "Cargando paquete requerido: GenomicRanges\n",
      "\n",
      "Cargando paquete requerido: stats4\n",
      "\n",
      "Cargando paquete requerido: BiocGenerics\n",
      "\n",
      "\n",
      "Adjuntando el paquete: 'BiocGenerics'\n",
      "\n",
      "\n",
      "The following objects are masked from 'package:stats':\n",
      "\n",
      "    IQR, mad, sd, var, xtabs\n",
      "\n",
      "\n",
      "The following objects are masked from 'package:base':\n",
      "\n",
      "    Filter, Find, Map, Position, Reduce, anyDuplicated, aperm, append,\n",
      "    as.data.frame, basename, cbind, colnames, dirname, do.call,\n",
      "    duplicated, eval, evalq, get, grep, grepl, intersect, is.unsorted,\n",
      "    lapply, mapply, match, mget, order, paste, pmax, pmax.int, pmin,\n",
      "    pmin.int, rank, rbind, rownames, sapply, saveRDS, setdiff, table,\n",
      "    tapply, union, unique, unsplit, which.max, which.min\n",
      "\n",
      "\n",
      "Cargando paquete requerido: S4Vectors\n",
      "\n",
      "\n",
      "Adjuntando el paquete: 'S4Vectors'\n",
      "\n",
      "\n",
      "The following object is masked from 'package:utils':\n",
      "\n",
      "    findMatches\n",
      "\n",
      "\n",
      "The following objects are masked from 'package:base':\n",
      "\n",
      "    I, expand.grid, unname\n",
      "\n",
      "\n",
      "Cargando paquete requerido: IRanges\n",
      "\n",
      "Cargando paquete requerido: GenomeInfoDb\n",
      "\n",
      "Cargando paquete requerido: Biobase\n",
      "\n",
      "Welcome to Bioconductor\n",
      "\n",
      "    Vignettes contain introductory material; view with\n",
      "    'browseVignettes()'. To cite Bioconductor, see\n",
      "    'citation(\"Biobase\")', and for packages 'citation(\"pkgname\")'.\n",
      "\n",
      "\n",
      "\n",
      "Adjuntando el paquete: 'Biobase'\n",
      "\n",
      "\n",
      "The following object is masked from 'package:MatrixGenerics':\n",
      "\n",
      "    rowMedians\n",
      "\n",
      "\n",
      "The following objects are masked from 'package:matrixStats':\n",
      "\n",
      "    anyMissing, rowMedians\n",
      "\n",
      "\n",
      "Registered S3 method overwritten by 'zellkonverter':\n",
      "  method                                             from      \n",
      "  py_to_r.pandas.core.arrays.categorical.Categorical reticulate\n",
      "\n"
     ]
    }
   ],
   "source": [
    "# Upload packages  \n",
    "\n",
    "library(SingleCellExperiment)\n",
    "library(zellkonverter)"
   ]
  },
  {
   "cell_type": "code",
   "execution_count": 3,
   "metadata": {
    "vscode": {
     "languageId": "r"
    }
   },
   "outputs": [
    {
     "data": {
      "text/plain": [
       "R version 4.4.2 (2024-10-31)\n",
       "Platform: aarch64-apple-darwin20\n",
       "Running under: macOS Sequoia 15.5\n",
       "\n",
       "Matrix products: default\n",
       "BLAS:   /Library/Frameworks/R.framework/Versions/4.4-arm64/Resources/lib/libRblas.0.dylib \n",
       "LAPACK: /Library/Frameworks/R.framework/Versions/4.4-arm64/Resources/lib/libRlapack.dylib;  LAPACK version 3.12.0\n",
       "\n",
       "locale:\n",
       "[1] C\n",
       "\n",
       "time zone: Europe/Madrid\n",
       "tzcode source: internal\n",
       "\n",
       "attached base packages:\n",
       "[1] stats4    stats     graphics  grDevices utils     datasets  methods  \n",
       "[8] base     \n",
       "\n",
       "other attached packages:\n",
       " [1] zellkonverter_1.16.0        SingleCellExperiment_1.28.1\n",
       " [3] SummarizedExperiment_1.36.0 Biobase_2.66.0             \n",
       " [5] GenomicRanges_1.58.0        GenomeInfoDb_1.42.0        \n",
       " [7] IRanges_2.40.0              S4Vectors_0.44.0           \n",
       " [9] BiocGenerics_0.52.0         MatrixGenerics_1.18.1      \n",
       "[11] matrixStats_1.4.1          \n",
       "\n",
       "loaded via a namespace (and not attached):\n",
       " [1] Matrix_1.7-1            jsonlite_1.8.9          compiler_4.4.2         \n",
       " [4] BiocManager_1.30.25     crayon_1.5.3            filelock_1.0.3         \n",
       " [7] Rcpp_1.0.13-1           IRdisplay_1.1           parallel_4.4.2         \n",
       "[10] png_0.1-8               uuid_1.2-1              fastmap_1.2.0          \n",
       "[13] IRkernel_1.3.2          reticulate_1.42.0       lattice_0.22-6         \n",
       "[16] R6_2.5.1                XVector_0.46.0          S4Arrays_1.6.0         \n",
       "[19] DelayedArray_0.32.0     GenomeInfoDbData_1.2.13 pillar_1.9.0           \n",
       "[22] rlang_1.1.4             utf8_1.2.4              dir.expiry_1.14.0      \n",
       "[25] repr_1.1.7              SparseArray_1.6.2       cli_3.6.3              \n",
       "[28] zlibbioc_1.52.0         digest_0.6.37           grid_4.4.2             \n",
       "[31] basilisk_1.18.0         base64enc_0.1-3         pbdZMQ_0.3-14          \n",
       "[34] lifecycle_1.0.4         vctrs_0.6.5             evaluate_1.0.1         \n",
       "[37] glue_1.8.0              abind_1.4-8             fansi_1.0.6            \n",
       "[40] httr_1.4.7              basilisk.utils_1.18.0   tools_4.4.2            \n",
       "[43] htmltools_0.5.8.1       UCSC.utils_1.2.0       "
      ]
     },
     "metadata": {},
     "output_type": "display_data"
    }
   ],
   "source": [
    "sessionInfo() # Información sobre la sesión"
   ]
  },
  {
   "cell_type": "markdown",
   "metadata": {},
   "source": [
    "### Format RDS save SCE archive"
   ]
  },
  {
   "cell_type": "code",
   "execution_count": 2,
   "metadata": {
    "vscode": {
     "languageId": "r"
    }
   },
   "outputs": [],
   "source": [
    "sce <- readRDS(\"/Users/Desktop/mi_sce.rds\") # Save SCE"
   ]
  },
  {
   "cell_type": "code",
   "execution_count": null,
   "metadata": {
    "vscode": {
     "languageId": "r"
    }
   },
   "outputs": [
    {
     "name": "stderr",
     "output_type": "stream",
     "text": [
      "Cargando paquete requerido: SingleCellExperiment\n",
      "\n",
      "Cargando paquete requerido: SummarizedExperiment\n",
      "\n",
      "Cargando paquete requerido: MatrixGenerics\n",
      "\n",
      "Cargando paquete requerido: matrixStats\n",
      "\n",
      "\n",
      "Adjuntando el paquete: 'MatrixGenerics'\n",
      "\n",
      "\n",
      "The following objects are masked from 'package:matrixStats':\n",
      "\n",
      "    colAlls, colAnyNAs, colAnys, colAvgsPerRowSet, colCollapse,\n",
      "    colCounts, colCummaxs, colCummins, colCumprods, colCumsums,\n",
      "    colDiffs, colIQRDiffs, colIQRs, colLogSumExps, colMadDiffs,\n",
      "    colMads, colMaxs, colMeans2, colMedians, colMins, colOrderStats,\n",
      "    colProds, colQuantiles, colRanges, colRanks, colSdDiffs, colSds,\n",
      "    colSums2, colTabulates, colVarDiffs, colVars, colWeightedMads,\n",
      "    colWeightedMeans, colWeightedMedians, colWeightedSds,\n",
      "    colWeightedVars, rowAlls, rowAnyNAs, rowAnys, rowAvgsPerColSet,\n",
      "    rowCollapse, rowCounts, rowCummaxs, rowCummins, rowCumprods,\n",
      "    rowCumsums, rowDiffs, rowIQRDiffs, rowIQRs, rowLogSumExps,\n",
      "    rowMadDiffs, rowMads, rowMaxs, rowMeans2, rowMedians, rowMins,\n",
      "    rowOrderStats, rowProds, rowQuantiles, rowRanges, rowRanks,\n",
      "    rowSdDiffs, rowSds, rowSums2, rowTabulates, rowVarDiffs, rowVars,\n",
      "    rowWeightedMads, rowWeightedMeans, rowWeightedMedians,\n",
      "    rowWeightedSds, rowWeightedVars\n",
      "\n",
      "\n",
      "Cargando paquete requerido: GenomicRanges\n",
      "\n",
      "Cargando paquete requerido: stats4\n",
      "\n",
      "Cargando paquete requerido: BiocGenerics\n",
      "\n",
      "\n",
      "Adjuntando el paquete: 'BiocGenerics'\n",
      "\n",
      "\n",
      "The following objects are masked from 'package:stats':\n",
      "\n",
      "    IQR, mad, sd, var, xtabs\n",
      "\n",
      "\n",
      "The following objects are masked from 'package:base':\n",
      "\n",
      "    Filter, Find, Map, Position, Reduce, anyDuplicated, aperm, append,\n",
      "    as.data.frame, basename, cbind, colnames, dirname, do.call,\n",
      "    duplicated, eval, evalq, get, grep, grepl, intersect, is.unsorted,\n",
      "    lapply, mapply, match, mget, order, paste, pmax, pmax.int, pmin,\n",
      "    pmin.int, rank, rbind, rownames, sapply, saveRDS, setdiff, table,\n",
      "    tapply, union, unique, unsplit, which.max, which.min\n",
      "\n",
      "\n",
      "Cargando paquete requerido: S4Vectors\n",
      "\n",
      "\n",
      "Adjuntando el paquete: 'S4Vectors'\n",
      "\n",
      "\n",
      "The following object is masked from 'package:utils':\n",
      "\n",
      "    findMatches\n",
      "\n",
      "\n",
      "The following objects are masked from 'package:base':\n",
      "\n",
      "    I, expand.grid, unname\n",
      "\n",
      "\n",
      "Cargando paquete requerido: IRanges\n",
      "\n",
      "Cargando paquete requerido: GenomeInfoDb\n",
      "\n",
      "Cargando paquete requerido: Biobase\n",
      "\n",
      "Welcome to Bioconductor\n",
      "\n",
      "    Vignettes contain introductory material; view with\n",
      "    'browseVignettes()'. To cite Bioconductor, see\n",
      "    'citation(\"Biobase\")', and for packages 'citation(\"pkgname\")'.\n",
      "\n",
      "\n",
      "\n",
      "Adjuntando el paquete: 'Biobase'\n",
      "\n",
      "\n",
      "The following object is masked from 'package:MatrixGenerics':\n",
      "\n",
      "    rowMedians\n",
      "\n",
      "\n",
      "The following objects are masked from 'package:matrixStats':\n",
      "\n",
      "    anyMissing, rowMedians\n",
      "\n",
      "\n"
     ]
    },
    {
     "name": "stdout",
     "output_type": "stream",
     "text": [
      "class: SingleCellExperiment \n",
      "dim: 33949 7884 \n",
      "metadata(3): anatomical_site_colors celltype_colors pcw_colors\n",
      "assays(3): X raw_count soupX_corrected\n",
      "rownames(33949): DAO INTS6-AS1 ... RESF1 AC069439.2\n",
      "rowData names(0):\n",
      "colnames(7884): HCA_BN_F12922481_and_HCA_BN_F12918719-GGCCAGTTCGCTCCAT\n",
      "  HCA_BN_F12966460_and_HCA_BN_F12951836-TGCACACCACAAACTT ...\n",
      "  HCA_BN_F12874043_and_HCA_BN_F12865675-TCACCTGGTTCCAGGG\n",
      "  HCA_BN_F12808061_and_HCA_BN_F12803237-CTCGCTAGTTATCCTA\n",
      "colData names(20): run_id batch ... phase celltype\n",
      "reducedDimNames(3): X_pca X_scVI X_umap\n",
      "mainExpName: NULL\n",
      "altExpNames(0):\n"
     ]
    }
   ],
   "source": [
    "print (sce) #Check SCE"
   ]
  },
  {
   "cell_type": "code",
   "execution_count": null,
   "metadata": {
    "vscode": {
     "languageId": "r"
    }
   },
   "outputs": [
    {
     "name": "stderr",
     "output_type": "stream",
     "text": [
      "\u001b[36mi\u001b[39m Using the \u001b[32m\u001b[32m'X'\u001b[32m\u001b[39m assay as the \u001b[32m\u001b[32mX matrix\u001b[32m\u001b[39m\n",
      "\n"
     ]
    }
   ],
   "source": [
    "writeH5AD(sce, file = \"/Users/rafaelsalgueroraigon/Desktop/mis_datos.h5ad\") # Save AnnData"
   ]
  },
  {
   "cell_type": "markdown",
   "metadata": {},
   "source": [
    "### Python"
   ]
  },
  {
   "cell_type": "code",
   "execution_count": null,
   "metadata": {
    "vscode": {
     "languageId": "python"
    }
   },
   "outputs": [
    {
     "name": "stdout",
     "output_type": "stream",
     "text": [
      "AnnData object with n_obs × n_vars = 7884 × 33949 backed at '/Users/rafaelsalgueroraigon/Desktop/mis_datos.h5ad'\n",
      "    obs: 'run_id', 'batch', 'relative_position', 'bone', 'scrublet_score', 'doublet_bh_pval', 'anatomical_site', 'pcw', 'brc_code', 'n_genes', 'n_genes_by_counts', 'total_counts', 'total_counts_mt', 'pct_counts_mt', 'total_counts_ribo', 'pct_counts_ribo', 'S_score', 'G2M_score', 'phase', 'celltype'\n",
      "    uns: 'X_name', 'anatomical_site_colors', 'celltype_colors', 'pcw_colors'\n",
      "    obsm: 'X_pca', 'X_scVI', 'X_umap'\n",
      "    layers: 'raw_count', 'soupX_corrected'\n",
      "    obsp: 'X_scVI_connectivities', 'X_scVI_distances'\n"
     ]
    }
   ],
   "source": [
    "# Check AnnData\n",
    "import scanpy as sc\n",
    "\n",
    "adata = sc.read_h5ad(\"/Users/Desktop/mis_datos.h5ad\", backed='r')\n",
    "print (adata)"
   ]
  },
  {
   "cell_type": "markdown",
   "metadata": {},
   "source": [
    "#### Reference example data:\n",
    "\n",
    "To, K., Fei, L., Pett, J.P. et al. A multi-omic atlas of human embryonic skeletal development. Nature 635, 657–667 (2024). https://doi.org/10.1038/s41586-024-08189-z\n",
    "\n"
   ]
  }
 ],
 "metadata": {
  "kernelspec": {
   "display_name": "R",
   "language": "R",
   "name": "ir"
  },
  "language_info": {
   "codemirror_mode": "r",
   "file_extension": ".r",
   "mimetype": "text/x-r-source",
   "name": "R",
   "pygments_lexer": "r",
   "version": "4.4.2"
  }
 },
 "nbformat": 4,
 "nbformat_minor": 2
}
