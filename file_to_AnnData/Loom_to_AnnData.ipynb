{
 "cells": [
  {
   "cell_type": "code",
   "execution_count": null,
   "id": "442f3c54-7083-47f0-9b03-7989d055aa13",
   "metadata": {
    "kernel": "Python 3 (ipykernel)"
   },
   "outputs": [],
   "source": [
    "#Install packages\n",
    "import scanpy as sc\n",
    "import pandas as pd\n",
    "import anndata as ad\n",
    "import loompy\n",
    "import session_info"
   ]
  },
  {
   "cell_type": "code",
   "execution_count": null,
   "id": "4ad22f76-8685-4bec-b4f0-30dcf3251455",
   "metadata": {
    "kernel": "Python 3 (ipykernel)"
   },
   "outputs": [],
   "source": [
    "# Information of the session\n",
    "\n",
    "sc.settings.verbosity = 3\n",
    "\n",
    "session_info.show()"
   ]
  },
  {
   "cell_type": "code",
   "execution_count": null,
   "id": "1d1677e8-960c-4e98-bd70-fe24eba178e0",
   "metadata": {
    "kernel": "Python 3 (ipykernel)"
   },
   "outputs": [],
   "source": [
    "# If the loom file is small, use this script:\n",
    "\n",
    "adata = sc.read_loom(\"Dowloads/GSE290839_MergedDataset26Feb2025.loom\")\n",
    "\n",
    "adata.write(\"Dowloads/GSE290839_MergedDataset26Feb2025.h5ad\")"
   ]
  },
  {
   "cell_type": "code",
   "execution_count": null,
   "id": "c6b73e22-26fe-4369-a80f-671f716fb56c",
   "metadata": {
    "kernel": "Python 3 (ipykernel)"
   },
   "outputs": [],
   "source": [
    "# If the loom file is big, use this script:\n",
    "\n",
    "with loompy.connect(\"Dowloads/GSE290839_MergedDataset26Feb2025.loom\") as ds:\n",
    "    print(ds.shape)\n",
    "    \n",
    "    data_chunk = ds[:1000, :]\n",
    "    \n",
    "    print(data_chunk.shape)\n",
    "    \n",
    "# Then continue with the general script to convert AnnData to Atlas file"
   ]
  },
  {
   "cell_type": "code",
   "execution_count": null,
   "id": "44405322-39ba-4202-a8b7-9d7024cdc4fe",
   "metadata": {
    "kernel": "SoS"
   },
   "outputs": [],
   "source": [
    "Reference data:\n",
    "https://www.ncbi.nlm.nih.gov/geo/query/acc.cgi?acc=GSE290839"
   ]
  }
 ],
 "metadata": {
  "kernelspec": {
   "display_name": "SoS",
   "language": "sos",
   "name": "sos"
  },
  "language_info": {
   "codemirror_mode": "sos",
   "file_extension": ".sos",
   "mimetype": "text/x-sos",
   "name": "sos",
   "nbconvert_exporter": "sos_notebook.converter.SoS_Exporter",
   "pygments_lexer": "sos"
  },
  "sos": {
   "kernels": [
    [
     "Python 3 (ipykernel)",
     "python3",
     "python3",
     "",
     ""
    ],
    [
     "SoS",
     "sos",
     "",
     "",
     "sos"
    ]
   ],
   "version": ""
  }
 },
 "nbformat": 4,
 "nbformat_minor": 5
}
