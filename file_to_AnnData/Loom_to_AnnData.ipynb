{
 "cells": [
  {
   "cell_type": "code",
   "execution_count": null,
   "id": "442f3c54-7083-47f0-9b03-7989d055aa13",
   "metadata": {
    "kernel": "Python 3 (ipykernel)"
   },
   "outputs": [],
   "source": [
    "#Install packages\n",
    "import scanpy as sc\n",
    "import pandas as pd\n",
    "import anndata as ad\n",
    "from scipy.sparse import csr_matrix"
   ]
  },
  {
   "cell_type": "code",
   "execution_count": null,
   "id": "773d9696-5c7d-4eb1-8005-33fd06848d0c",
   "metadata": {
    "kernel": "Python 3 (ipykernel)"
   },
   "outputs": [],
   "source": [
    "#Load loom file\n",
    "adata = ad.read_loom(\"GSE290839_MergedDataset26Feb2025.loom\")\n",
    "print(adata)\n",
    "\n",
    "#Ensure CSR format (required for .data, .indices, .indptr)\n",
    "X = adata.X.tocsr()\n",
    "shape = X.shape\n",
    "\n",
    "#Extract cells and genes names\n",
    "cell_names = adata.obs_names.tolist()\n",
    "gene_names = adata.var_names.tolist()\n",
    "\n",
    "#OPTIONAl: Transpose if columns are genes and rows are cells\n",
    "# X = X.transpose().tocsr()\n",
    "# shape = X.shape\n",
    "# cell_names, gene_names = gene_names, cell_names\n",
    "\n",
    "#Extract components from the sparse matrix\n",
    "data = X.data\n",
    "indices = X.indices\n",
    "indptr = X.indptr\n",
    "\n",
    "#Reconstruct the sparse matrix\n",
    "X_new = csr_matrix((data, index, indptr), shape=shape)\n",
    "\n",
    "#Create new AnnData object\n",
    "obs = pd.DataFrame(index=cell_names)\n",
    "var = pd.DataFrame(index=gene_names)\n",
    "adata_new = anndata.AnnData(X=X_new, obs=obs, var=var)\n",
    "\n",
    "#Save as h5ad file\n",
    "adata.write(\"GSE290839_MergedDataset26Feb2025.h5ad\")"
   ]
  },
  {
   "cell_type": "code",
   "execution_count": null,
   "id": "44405322-39ba-4202-a8b7-9d7024cdc4fe",
   "metadata": {
    "kernel": "SoS"
   },
   "outputs": [],
   "source": [
    "Reference data:\n",
    "https://www.ncbi.nlm.nih.gov/geo/query/acc.cgi?acc=GSE290839"
   ]
  }
 ],
 "metadata": {
  "kernelspec": {
   "display_name": "SoS",
   "language": "sos",
   "name": "sos"
  },
  "language_info": {
   "codemirror_mode": "sos",
   "file_extension": ".sos",
   "mimetype": "text/x-sos",
   "name": "sos",
   "nbconvert_exporter": "sos_notebook.converter.SoS_Exporter",
   "pygments_lexer": "sos"
  },
  "sos": {
   "kernels": [
    [
     "Python 3 (ipykernel)",
     "python3",
     "python3",
     "",
     ""
    ],
    [
     "SoS",
     "sos",
     "",
     "",
     "sos"
    ]
   ],
   "version": ""
  }
 },
 "nbformat": 4,
 "nbformat_minor": 5
}
